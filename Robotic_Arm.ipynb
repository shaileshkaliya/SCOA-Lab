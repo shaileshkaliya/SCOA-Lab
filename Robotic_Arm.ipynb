{
  "nbformat": 4,
  "nbformat_minor": 0,
  "metadata": {
    "colab": {
      "provenance": []
    },
    "kernelspec": {
      "name": "python3",
      "display_name": "Python 3"
    },
    "language_info": {
      "name": "python"
    }
  },
  "cells": [
    {
      "cell_type": "code",
      "execution_count": 3,
      "metadata": {
        "colab": {
          "base_uri": "https://localhost:8080/"
        },
        "id": "eL780Lcy7uhV",
        "outputId": "558d52e2-fd84-4473-850d-224991185134"
      },
      "outputs": [
        {
          "output_type": "stream",
          "name": "stdout",
          "text": [
            "Motor Force: 49.99999999999996 units\n"
          ]
        }
      ],
      "source": [
        "import numpy as np\n",
        "import skfuzzy as fuzz\n",
        "from skfuzzy import control as ctrl\n",
        "\n",
        "# Define fuzzy variables\n",
        "angle_error = ctrl.Antecedent(np.arange(-10, 11, 1), 'angle_error')  # Error in angle (-10 to 10 degrees)\n",
        "angular_velocity = ctrl.Antecedent(np.arange(-5, 6, 1), 'angular_velocity')  # Velocity (-5 to 5 units)\n",
        "motor_force = ctrl.Consequent(np.arange(0, 101, 1), 'motor_force')  # Force (0 to 100 units)\n",
        "\n",
        "# Define membership functions for angle_error\n",
        "angle_error['negative'] = fuzz.trimf(angle_error.universe, [-10, -10, 0])\n",
        "angle_error['zero'] = fuzz.trimf(angle_error.universe, [-5, 0, 5])\n",
        "angle_error['positive'] = fuzz.trimf(angle_error.universe, [0, 10, 10])\n",
        "\n",
        "# Define membership functions for angular_velocity\n",
        "angular_velocity['negative'] = fuzz.trimf(angular_velocity.universe, [-5, -5, 0])\n",
        "angular_velocity['zero'] = fuzz.trimf(angular_velocity.universe, [-2, 0, 2])\n",
        "angular_velocity['positive'] = fuzz.trimf(angular_velocity.universe, [0, 5, 5])\n",
        "\n",
        "# Define membership functions for motor_force\n",
        "motor_force['low'] = fuzz.trimf(motor_force.universe, [0, 0, 50])\n",
        "motor_force['medium'] = fuzz.trimf(motor_force.universe, [25, 50, 75])\n",
        "motor_force['high'] = fuzz.trimf(motor_force.universe, [50, 100, 100])\n",
        "\n",
        "# Define fuzzy rules\n",
        "rule1 = ctrl.Rule(angle_error['negative'] & angular_velocity['negative'], motor_force['low'])\n",
        "rule2 = ctrl.Rule(angle_error['negative'] & angular_velocity['zero'], motor_force['low'])\n",
        "rule3 = ctrl.Rule(angle_error['negative'] & angular_velocity['positive'], motor_force['medium'])\n",
        "rule4 = ctrl.Rule(angle_error['zero'] & angular_velocity['zero'], motor_force['medium'])\n",
        "rule5 = ctrl.Rule(angle_error['positive'] & angular_velocity['positive'], motor_force['low'])\n",
        "rule6 = ctrl.Rule(angle_error['positive'] & angular_velocity['zero'], motor_force['medium'])\n",
        "rule7 = ctrl.Rule(angle_error['positive'] & angular_velocity['negative'], motor_force['high'])\n",
        "\n",
        "# Create the control system\n",
        "robotic_arm_ctrl = ctrl.ControlSystem([rule1, rule2, rule3, rule4, rule5, rule6, rule7])\n",
        "robotic_arm_sim = ctrl.ControlSystemSimulation(robotic_arm_ctrl)\n",
        "\n",
        "# Input values\n",
        "robotic_arm_sim.input['angle_error'] = -4  # Example: -4 degrees\n",
        "robotic_arm_sim.input['angular_velocity'] = 2  # Example: 2 units/second\n",
        "\n",
        "# Compute the result\n",
        "robotic_arm_sim.compute()\n",
        "\n",
        "# Output the result\n",
        "print(f\"Motor Force: {robotic_arm_sim.output['motor_force']} units\")\n"
      ]
    },
    {
      "cell_type": "code",
      "source": [
        "Fuzzy logic is ideal for controlling systems like a robotic arm because it can handle uncertainties and vague information, such as \"slightly tilted\" or \"almost correct.\" Instead of relying on precise mathematical models, fuzzy logic uses linguistic variables and rules to make decisions.\n",
        "\n",
        "Steps to Implement:\n",
        "Define Inputs (Antecedents):\n",
        "\n",
        "Angle Error: Difference between the desired angle and the current angle.\n",
        "Angular Velocity: Speed at which the arm is moving.\n",
        "Define Output (Consequent):\n",
        "\n",
        "Motor Force: The force applied to correct the arm's position.\n",
        "Define Fuzzy Sets:\n",
        "\n",
        "Represent inputs and outputs as linguistic terms (e.g., \"negative\", \"zero\", \"positive\").\n",
        "Assign membership functions (triangular, trapezoidal).\n",
        "Create Fuzzy Rules:\n",
        "\n",
        "Define rules like:\n",
        "\"If angle error is positive and velocity is zero, apply moderate force.\"\n",
        "\"If angle error is negative and velocity is high, apply weak force.\"\n",
        "Evaluate the Rules:\n",
        "\n",
        "Use the inputs to calculate the fuzzy outputs using rules.\n",
        "Defuzzify the Output:\n",
        "\n",
        "Convert the fuzzy output into a crisp value for motor control.\n",
        "\n",
        "Explanation of Code:\n",
        "Define Input and Output Variables:\n",
        "\n",
        "angle_error, angular_velocity: Fuzzy inputs for the robotic arm.\n",
        "motor_force: Fuzzy output for the motor.\n",
        "Membership Functions:\n",
        "\n",
        "fuzz.trimf: Defines triangular membership functions for inputs and outputs.\n",
        "Example: angle_error['negative'] uses points [-10, -10, 0].\n",
        "Fuzzy Rules:\n",
        "\n",
        "ctrl.Rule: Defines relationships between inputs and outputs.\n",
        "Example: Rule angle_error['negative'] & angular_velocity['negative'] -> motor_force['low'].\n",
        "Control System:\n",
        "\n",
        "ctrl.ControlSystem: Combines all fuzzy rules.\n",
        "ctrl.ControlSystemSimulation: Simulates the system for given inputs.\n",
        "Input and Output:\n",
        "\n",
        "Inputs are provided via robotic_arm_sim.input.\n",
        "robotic_arm_sim.compute() processes the inputs through the rules.\n",
        "Outputs are obtained via robotic_arm_sim.output.\n",
        "Why Use Fuzzy Logic for Robotic Arm Control?\n",
        "Uncertainty Handling: It deals with imprecise inputs like slight variations in angle or speed.\n",
        "Linguistic Rules: Human-like decision-making using simple rules.\n",
        "Smooth Control: Avoids abrupt changes in motor force, ensuring stable movements.\n",
        "Simplicity: Reduces complexity compared to mathematical modeling for non-linear systems.\n",
        "\n",
        "\n",
        "\n",
        "\n",
        "\n",
        "\n"
      ],
      "metadata": {
        "id": "TEYE7pTk7z2d"
      },
      "execution_count": null,
      "outputs": []
    }
  ]
}