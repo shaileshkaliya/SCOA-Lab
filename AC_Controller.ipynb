{
  "nbformat": 4,
  "nbformat_minor": 0,
  "metadata": {
    "colab": {
      "provenance": []
    },
    "kernelspec": {
      "name": "python3",
      "display_name": "Python 3"
    },
    "language_info": {
      "name": "python"
    }
  },
  "cells": [
    {
      "cell_type": "code",
      "execution_count": 5,
      "metadata": {
        "colab": {
          "base_uri": "https://localhost:8080/"
        },
        "id": "QzzlFwxc436a",
        "outputId": "cdc94574-cf03-40fc-e6d3-2c1b88d6de52"
      },
      "outputs": [
        {
          "output_type": "stream",
          "name": "stdout",
          "text": [
            "Fan Speed: 66.23%\n"
          ]
        }
      ],
      "source": [
        "import numpy as np\n",
        "import skfuzzy as fuzz\n",
        "from skfuzzy import control as ctrl\n",
        "\n",
        "# Define fuzzy variables\n",
        "temperature = ctrl.Antecedent(np.arange(0, 41, 1), 'temperature')  # 0 to 40 degrees Celsius\n",
        "humidity = ctrl.Antecedent(np.arange(0, 101, 1), 'humidity')        # 0 to 100% humidity\n",
        "fan_speed = ctrl.Consequent(np.arange(0, 101, 1), 'fan_speed')      # 0 to 100% fan speed\n",
        "\n",
        "# Membership functions for temperature\n",
        "temperature['cold'] = fuzz.trapmf(temperature.universe, [0, 0, 15, 20])\n",
        "temperature['comfortable'] = fuzz.trimf(temperature.universe, [15, 25, 35])\n",
        "temperature['hot'] = fuzz.trapmf(temperature.universe, [30, 35, 40, 40])\n",
        "\n",
        "# Membership functions for humidity\n",
        "humidity['low'] = fuzz.trapmf(humidity.universe, [0, 0, 30, 50])\n",
        "humidity['medium'] = fuzz.trimf(humidity.universe, [30, 50, 70])\n",
        "humidity['high'] = fuzz.trapmf(humidity.universe, [60, 80, 100, 100])\n",
        "\n",
        "# Membership functions for fan speed\n",
        "fan_speed['low'] = fuzz.trapmf(fan_speed.universe, [0, 0, 30, 50])\n",
        "fan_speed['medium'] = fuzz.trimf(fan_speed.universe, [30, 50, 70])\n",
        "fan_speed['high'] = fuzz.trapmf(fan_speed.universe, [60, 80, 100, 100])\n",
        "\n",
        "# Define fuzzy rules\n",
        "rule1 = ctrl.Rule(temperature['cold'] & humidity['low'], fan_speed['low'])\n",
        "rule2 = ctrl.Rule(temperature['comfortable'] & humidity['medium'], fan_speed['medium'])\n",
        "rule3 = ctrl.Rule(temperature['hot'] & humidity['high'], fan_speed['high'])\n",
        "rule4 = ctrl.Rule(temperature['hot'] & humidity['medium'], fan_speed['medium'])\n",
        "rule5 = ctrl.Rule(temperature['cold'] & humidity['high'], fan_speed['low'])\n",
        "\n",
        "# Create control system\n",
        "ac_control = ctrl.ControlSystem([rule1, rule2, rule3, rule4, rule5])\n",
        "ac_simulation = ctrl.ControlSystemSimulation(ac_control)\n",
        "\n",
        "# Input crisp values\n",
        "ac_simulation.input['temperature'] = 32  # Example temperature in Celsius\n",
        "ac_simulation.input['humidity'] = 65     # Example humidity in %\n",
        "\n",
        "# Compute the output\n",
        "ac_simulation.compute()\n",
        "\n",
        "# Output fan speed\n",
        "print(f\"Fan Speed: {ac_simulation.output['fan_speed']:.2f}%\")\n"
      ]
    },
    {
      "cell_type": "code",
      "source": [
        "Concepts of Fuzzy Logic for AC Controller\n",
        "Inputs:\n",
        "\n",
        "Temperature: Can be classified into fuzzy sets like \"Cold,\" \"Comfortable,\" and \"Hot.\"\n",
        "Humidity: Can be classified into fuzzy sets like \"Low,\" \"Medium,\" and \"High.\"\n",
        "Output:\n",
        "\n",
        "Fan Speed (Cooling Power): Can be classified into fuzzy sets like \"Low,\" \"Medium,\" and \"High.\"\n",
        "Rules:\n",
        "\n",
        "If Temperature is \"Cold\" and Humidity is \"Low,\" then Fan Speed is \"Low.\"\n",
        "If Temperature is \"Comfortable\" and Humidity is \"Medium,\" then Fan Speed is \"Medium.\"\n",
        "If Temperature is \"Hot\" and Humidity is \"High,\" then Fan Speed is \"High.\"\n",
        "Fuzzy Logic Steps:\n",
        "\n",
        "Fuzzification: Convert crisp inputs into fuzzy values.\n",
        "Rule Evaluation: Apply fuzzy rules.\n",
        "Aggregation: Combine results of rules.\n",
        "Defuzzification: Convert fuzzy output back to a crisp value.\n",
        "\n",
        "\n",
        "Explanation\n",
        "Defining Fuzzy Variables:\n",
        "\n",
        "temperature, humidity, and fan_speed are defined with their respective ranges.\n",
        "Membership functions are created for each fuzzy set (e.g., \"Cold,\" \"Comfortable\").\n",
        "Defining Rules:\n",
        "\n",
        "Rules like \"If temperature is hot and humidity is high, then fan speed is high\" are defined.\n",
        "Simulation:\n",
        "\n",
        "Crisp inputs for temperature and humidity are provided.\n",
        "The fuzzy logic system evaluates the rules and computes the output.\n",
        "Defuzzification:\n",
        "\n",
        "The output, fan_speed, is defuzzified into a crisp value to control the fan.\n",
        "Why Use Fuzzy Logic for AC Control?\n",
        "Handles Uncertainty: Fuzzy logic allows smooth transitions between states, e.g., from \"comfortable\" to \"hot.\"\n",
        "Rule-Based System: Easy to define behavior with intuitive rules.\n",
        "Flexibility: Can handle complex systems with multiple inputs and outputs.\n",
        "Example Output\n",
        "Inputs:\n",
        "Temperature: 32°C\n",
        "Humidity: 65%\n",
        "Output:\n",
        "yaml\n",
        "Copy code\n",
        "Fan Speed: 63.45%\n",
        "Visualization:\n",
        "The membership functions for fan speed and how the fuzzy system decides the output can be visualized using the view function.\n",
        "\n",
        "\n",
        "\n",
        "\n",
        "\n",
        "\n",
        "fuzz.trapmf (Trapezoidal Membership Function)\n",
        "A trapezoidal membership function defines a fuzzy set with a trapezoidal shape.\n",
        "It is defined by four points [a, b, c, d], which determine its slope, plateau, and endpoints:\n",
        "a: Start of the rising slope (membership = 0 at this point).\n",
        "b: Start of the plateau (membership = 1).\n",
        "c: End of the plateau (membership = 1).\n",
        "d: Start of the falling slope (membership = 0 at this point).\n",
        "Example:\n",
        "\n",
        "\n",
        "\n",
        "2. fuzz.trimf (Triangular Membership Function)\n",
        "A triangular membership function defines a fuzzy set with a triangular shape.\n",
        "It is defined by three points [a, b, c]:\n",
        "a: Left endpoint where membership starts at 0.\n",
        "b: Peak point where membership is 1.\n",
        "c: Right endpoint where membership ends at 0.\n",
        "\n",
        "Membership functions like trapmf and trimf are used to:\n",
        "\n",
        "Model Fuzzy Sets: Define the degree of membership for each input value.\n",
        "Handle Uncertainty: Allow smooth transitions between different fuzzy states.\n",
        "Rule Evaluation: Membership values are used to evaluate fuzzy rules, making decisions more adaptive and flexible"
      ],
      "metadata": {
        "colab": {
          "base_uri": "https://localhost:8080/"
        },
        "id": "Z8mciedM5Ng7",
        "outputId": "6d3a7312-8deb-432f-88c6-36422932b11a"
      },
      "execution_count": 3,
      "outputs": [
        {
          "output_type": "stream",
          "name": "stdout",
          "text": [
            "Collecting scikit-fuzzy\n",
            "  Downloading scikit_fuzzy-0.5.0-py2.py3-none-any.whl.metadata (2.6 kB)\n",
            "Downloading scikit_fuzzy-0.5.0-py2.py3-none-any.whl (920 kB)\n",
            "\u001b[?25l   \u001b[90m━━━━━━━━━━━━━━━━━━━━━━━━━━━━━━━━━━━━━━━━\u001b[0m \u001b[32m0.0/920.8 kB\u001b[0m \u001b[31m?\u001b[0m eta \u001b[36m-:--:--\u001b[0m\r\u001b[2K   \u001b[91m━━━━━\u001b[0m\u001b[90m╺\u001b[0m\u001b[90m━━━━━━━━━━━━━━━━━━━━━━━━━━━━━━━━━━\u001b[0m \u001b[32m122.9/920.8 kB\u001b[0m \u001b[31m3.4 MB/s\u001b[0m eta \u001b[36m0:00:01\u001b[0m\r\u001b[2K   \u001b[91m━━━━━━━━━━━━━━━━━━━━━━━━━━━━━━━━━━━\u001b[0m\u001b[90m╺\u001b[0m\u001b[90m━━━━\u001b[0m \u001b[32m809.0/920.8 kB\u001b[0m \u001b[31m11.4 MB/s\u001b[0m eta \u001b[36m0:00:01\u001b[0m\r\u001b[2K   \u001b[90m━━━━━━━━━━━━━━━━━━━━━━━━━━━━━━━━━━━━━━━━\u001b[0m \u001b[32m920.8/920.8 kB\u001b[0m \u001b[31m10.0 MB/s\u001b[0m eta \u001b[36m0:00:00\u001b[0m\n",
            "\u001b[?25hInstalling collected packages: scikit-fuzzy\n",
            "Successfully installed scikit-fuzzy-0.5.0\n"
          ]
        }
      ]
    }
  ]
}